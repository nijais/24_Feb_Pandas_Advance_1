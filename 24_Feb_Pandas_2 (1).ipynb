{
 "cells": [
  {
   "cell_type": "markdown",
   "id": "394b3c6b-9972-49ee-977a-b3c3c55dec79",
   "metadata": {},
   "source": [
    "<div style=\"text-align:center;\">\n",
    "    <div class=\"alert alert-block alert-success\">\n",
    "        <b>Assignment 23: Pandas Advance </b>[24_Feb_2023]\n",
    "    </div>\n",
    "</div>"
   ]
  },
  {
   "cell_type": "code",
   "execution_count": 1,
   "id": "7f3caf28-e826-4a5b-ba84-7d112cbd4d3a",
   "metadata": {},
   "outputs": [],
   "source": [
    "import pandas as pd"
   ]
  },
  {
   "cell_type": "markdown",
   "id": "2819a64a-3530-40a2-a9d7-0fa24a9c8ec6",
   "metadata": {},
   "source": [
    "# Q1. List any five functions of the pandas library with execution.\n",
    "\n",
    "###  Here are five common functions of the Pandas library with examples of how to execute them:"
   ]
  },
  {
   "cell_type": "markdown",
   "id": "6142dcdc-9ef6-476b-b17b-7c053ba6985a",
   "metadata": {},
   "source": [
    "### 1. `groupby()` : This function is used to group data by one or more columns and perform an operation such as sum, mean, or count, to each group."
   ]
  },
  {
   "cell_type": "code",
   "execution_count": 2,
   "id": "b59a8ddb-8165-4232-9c74-6bcd27ef322c",
   "metadata": {},
   "outputs": [
    {
     "data": {
      "text/html": [
       "<div>\n",
       "<style scoped>\n",
       "    .dataframe tbody tr th:only-of-type {\n",
       "        vertical-align: middle;\n",
       "    }\n",
       "\n",
       "    .dataframe tbody tr th {\n",
       "        vertical-align: top;\n",
       "    }\n",
       "\n",
       "    .dataframe thead th {\n",
       "        text-align: right;\n",
       "    }\n",
       "</style>\n",
       "<table border=\"1\" class=\"dataframe\">\n",
       "  <thead>\n",
       "    <tr style=\"text-align: right;\">\n",
       "      <th></th>\n",
       "      <th>name</th>\n",
       "      <th>grade_level</th>\n",
       "      <th>grade</th>\n",
       "    </tr>\n",
       "  </thead>\n",
       "  <tbody>\n",
       "    <tr>\n",
       "      <th>0</th>\n",
       "      <td>Alice</td>\n",
       "      <td>freshman</td>\n",
       "      <td>90</td>\n",
       "    </tr>\n",
       "    <tr>\n",
       "      <th>1</th>\n",
       "      <td>Bob</td>\n",
       "      <td>sophomore</td>\n",
       "      <td>85</td>\n",
       "    </tr>\n",
       "    <tr>\n",
       "      <th>2</th>\n",
       "      <td>Charlie</td>\n",
       "      <td>junior</td>\n",
       "      <td>95</td>\n",
       "    </tr>\n",
       "    <tr>\n",
       "      <th>3</th>\n",
       "      <td>David</td>\n",
       "      <td>senior</td>\n",
       "      <td>80</td>\n",
       "    </tr>\n",
       "    <tr>\n",
       "      <th>4</th>\n",
       "      <td>Emily</td>\n",
       "      <td>freshman</td>\n",
       "      <td>92</td>\n",
       "    </tr>\n",
       "    <tr>\n",
       "      <th>5</th>\n",
       "      <td>Frank</td>\n",
       "      <td>sophomore</td>\n",
       "      <td>88</td>\n",
       "    </tr>\n",
       "    <tr>\n",
       "      <th>6</th>\n",
       "      <td>Grace</td>\n",
       "      <td>junior</td>\n",
       "      <td>94</td>\n",
       "    </tr>\n",
       "    <tr>\n",
       "      <th>7</th>\n",
       "      <td>Henry</td>\n",
       "      <td>senior</td>\n",
       "      <td>81</td>\n",
       "    </tr>\n",
       "  </tbody>\n",
       "</table>\n",
       "</div>"
      ],
      "text/plain": [
       "      name grade_level  grade\n",
       "0    Alice    freshman     90\n",
       "1      Bob   sophomore     85\n",
       "2  Charlie      junior     95\n",
       "3    David      senior     80\n",
       "4    Emily    freshman     92\n",
       "5    Frank   sophomore     88\n",
       "6    Grace      junior     94\n",
       "7    Henry      senior     81"
      ]
     },
     "execution_count": 2,
     "metadata": {},
     "output_type": "execute_result"
    }
   ],
   "source": [
    "# Create a DataFrame with student grades\n",
    "data = {'name': ['Alice', 'Bob', 'Charlie', 'David', 'Emily', 'Frank', 'Grace', 'Henry'],\n",
    "        'grade_level': ['freshman', 'sophomore', 'junior', 'senior', 'freshman', 'sophomore', 'junior', 'senior'],\n",
    "        'grade': [90, 85, 95, 80, 92, 88, 94, 81]}\n",
    "\n",
    "df = pd.DataFrame(data)\n",
    "df"
   ]
  },
  {
   "cell_type": "code",
   "execution_count": 3,
   "id": "1d5969fe-0606-42a1-8e83-f7a99ecc97df",
   "metadata": {},
   "outputs": [
    {
     "data": {
      "text/plain": [
       "grade_level\n",
       "freshman     91.0\n",
       "junior       94.5\n",
       "senior       80.5\n",
       "sophomore    86.5\n",
       "Name: grade, dtype: float64"
      ]
     },
     "execution_count": 3,
     "metadata": {},
     "output_type": "execute_result"
    }
   ],
   "source": [
    "# Group the data by grade level and compute the average grade\n",
    "# Group data by \"category\" column and calculate the mean of the \"value\" column\n",
    "#grouped_data = df.groupby(\"category\")[\"value\"].mean()\n",
    "group_by = df.groupby('grade_level')['grade'].mean()\n",
    "group_by"
   ]
  },
  {
   "cell_type": "code",
   "execution_count": null,
   "id": "6381579c-857f-4b71-999e-657321ad173a",
   "metadata": {},
   "outputs": [],
   "source": []
  },
  {
   "cell_type": "markdown",
   "id": "6ac96dd4-4526-4224-ba2f-bc24ad86765f",
   "metadata": {},
   "source": [
    "### 2. `nunique()` : This is another function of the Pandas library, which returns the number of `unique values` in a DataFrame or a Series."
   ]
  },
  {
   "cell_type": "code",
   "execution_count": 4,
   "id": "9323f8d1-9763-46aa-9d33-cad4ead21546",
   "metadata": {},
   "outputs": [
    {
     "data": {
      "text/plain": [
       "A    3\n",
       "B    4\n",
       "dtype: int64"
      ]
     },
     "execution_count": 4,
     "metadata": {},
     "output_type": "execute_result"
    }
   ],
   "source": [
    "# Create a DataFrame with some duplicate values\n",
    "df = pd.DataFrame({\n",
    "    \"A\": [1, 2, 2, 3, 3],\n",
    "    \"B\": [4, 5, 6, 7, 7]\n",
    "})\n",
    "\n",
    "# Count the number of unique values in each column\n",
    "df.nunique()"
   ]
  },
  {
   "cell_type": "code",
   "execution_count": null,
   "id": "bf0961e2-90ea-49a5-b4e3-7e4a37464587",
   "metadata": {},
   "outputs": [],
   "source": []
  },
  {
   "cell_type": "markdown",
   "id": "a73f876c-2128-4b1b-9563-29c2f147a07f",
   "metadata": {},
   "source": [
    "### 3. `isnull() and notnull()` : These are two functions of the Pandas library that are used to check for `missing or null values` in a DataFrame or a Series.\n",
    "\n",
    "- isnull() returns a Boolean mask indicating which values are `missing or null` , whereas notnull() returns a Boolean mask indicating which values are `not missing or null`"
   ]
  },
  {
   "cell_type": "code",
   "execution_count": 6,
   "id": "960bfe85-7a81-4218-b51a-439fe06ce365",
   "metadata": {},
   "outputs": [
    {
     "name": "stdout",
     "output_type": "stream",
     "text": [
      "Missing Values:\n",
      "       A      B\n",
      "0  False  False\n",
      "1  False   True\n",
      "2   True  False\n",
      "3  False  False\n",
      " \n",
      "Non-Missing Values:\n",
      "       A      B\n",
      "0   True   True\n",
      "1   True  False\n",
      "2  False   True\n",
      "3   True   True\n"
     ]
    }
   ],
   "source": [
    "# Create a DataFrame with some missing values\n",
    "df = pd.DataFrame({\n",
    "    \"A\": [1, 2, None, 4],\n",
    "    \"B\": [5, None, 7, 8]\n",
    "})\n",
    "\n",
    "# Use isnull() to check for missing values\n",
    "missing_values = df.isnull()\n",
    "\n",
    "# Use notnull() to check for non-missing values\n",
    "non_missing_values = df.notnull()\n",
    "\n",
    "# Print the results\n",
    "print(\"Missing Values:\")\n",
    "print(missing_values)\n",
    "print(\" \\nNon-Missing Values:\")\n",
    "print(non_missing_values)"
   ]
  },
  {
   "cell_type": "code",
   "execution_count": null,
   "id": "b9099f2b-154b-401d-bf0f-516da13a370a",
   "metadata": {},
   "outputs": [],
   "source": []
  },
  {
   "cell_type": "markdown",
   "id": "ccb5bdcd-09c9-40aa-b089-c29e9a7c2932",
   "metadata": {},
   "source": [
    "### 4. `drop(labels)` : This function  is used to remove specified rows or columns from a DataFrame. The labels parameter specifies the labels (i.e., names) of the rows or columns to be removed."
   ]
  },
  {
   "cell_type": "code",
   "execution_count": 7,
   "id": "a954e362-13f9-4f56-9002-725fc168bdfc",
   "metadata": {},
   "outputs": [
    {
     "data": {
      "text/html": [
       "<div>\n",
       "<style scoped>\n",
       "    .dataframe tbody tr th:only-of-type {\n",
       "        vertical-align: middle;\n",
       "    }\n",
       "\n",
       "    .dataframe tbody tr th {\n",
       "        vertical-align: top;\n",
       "    }\n",
       "\n",
       "    .dataframe thead th {\n",
       "        text-align: right;\n",
       "    }\n",
       "</style>\n",
       "<table border=\"1\" class=\"dataframe\">\n",
       "  <thead>\n",
       "    <tr style=\"text-align: right;\">\n",
       "      <th></th>\n",
       "      <th>State</th>\n",
       "      <th>City</th>\n",
       "      <th>Email</th>\n",
       "    </tr>\n",
       "  </thead>\n",
       "  <tbody>\n",
       "    <tr>\n",
       "      <th>Nimish</th>\n",
       "      <td>Uttar_Pradesh</td>\n",
       "      <td>Lucknow</td>\n",
       "      <td>nimish@gmail.com</td>\n",
       "    </tr>\n",
       "    <tr>\n",
       "      <th>Kishan</th>\n",
       "      <td>Madhya_Pradesh</td>\n",
       "      <td>Bhopal</td>\n",
       "      <td>kishan@gmail.com</td>\n",
       "    </tr>\n",
       "    <tr>\n",
       "      <th>Sarvansh</th>\n",
       "      <td>Kerala</td>\n",
       "      <td>Benguluru</td>\n",
       "      <td>sarvansh@gmail.com</td>\n",
       "    </tr>\n",
       "    <tr>\n",
       "      <th>Nitya</th>\n",
       "      <td>Bihar</td>\n",
       "      <td>Patna</td>\n",
       "      <td>nitya@gmail.com</td>\n",
       "    </tr>\n",
       "    <tr>\n",
       "      <th>Akshay</th>\n",
       "      <td>Gujarat</td>\n",
       "      <td>Ahemdabad</td>\n",
       "      <td>akshay</td>\n",
       "    </tr>\n",
       "  </tbody>\n",
       "</table>\n",
       "</div>"
      ],
      "text/plain": [
       "                   State       City               Email\n",
       "Nimish     Uttar_Pradesh    Lucknow    nimish@gmail.com\n",
       "Kishan    Madhya_Pradesh     Bhopal    kishan@gmail.com\n",
       "Sarvansh          Kerala  Benguluru  sarvansh@gmail.com\n",
       "Nitya              Bihar      Patna     nitya@gmail.com\n",
       "Akshay           Gujarat  Ahemdabad              akshay"
      ]
     },
     "execution_count": 7,
     "metadata": {},
     "output_type": "execute_result"
    }
   ],
   "source": [
    "# Create a DataFrame\n",
    "df = pd.DataFrame({\n",
    "    \"State\": ['Uttar_Pradesh', 'Madhya_Pradesh', 'Kerala', 'Bihar', 'Gujarat'],\n",
    "    \"City\": ['Lucknow', 'Bhopal', 'Benguluru', 'Patna', 'Ahemdabad'],\n",
    "    \"Email\": ['nimish@gmail.com', 'kishan@gmail.com', 'sarvansh@gmail.com', 'nitya@gmail.com', 'akshay']\n",
    "}, index=['Nimish', 'Kishan', 'Sarvansh', 'Nitya', 'Akshay'])\n",
    "df"
   ]
  },
  {
   "cell_type": "code",
   "execution_count": 8,
   "id": "6815b9f9-4525-4434-a233-d4963cacbe26",
   "metadata": {},
   "outputs": [
    {
     "data": {
      "text/html": [
       "<div>\n",
       "<style scoped>\n",
       "    .dataframe tbody tr th:only-of-type {\n",
       "        vertical-align: middle;\n",
       "    }\n",
       "\n",
       "    .dataframe tbody tr th {\n",
       "        vertical-align: top;\n",
       "    }\n",
       "\n",
       "    .dataframe thead th {\n",
       "        text-align: right;\n",
       "    }\n",
       "</style>\n",
       "<table border=\"1\" class=\"dataframe\">\n",
       "  <thead>\n",
       "    <tr style=\"text-align: right;\">\n",
       "      <th></th>\n",
       "      <th>City</th>\n",
       "      <th>Email</th>\n",
       "    </tr>\n",
       "  </thead>\n",
       "  <tbody>\n",
       "    <tr>\n",
       "      <th>Nimish</th>\n",
       "      <td>Lucknow</td>\n",
       "      <td>nimish@gmail.com</td>\n",
       "    </tr>\n",
       "    <tr>\n",
       "      <th>Kishan</th>\n",
       "      <td>Bhopal</td>\n",
       "      <td>kishan@gmail.com</td>\n",
       "    </tr>\n",
       "    <tr>\n",
       "      <th>Sarvansh</th>\n",
       "      <td>Benguluru</td>\n",
       "      <td>sarvansh@gmail.com</td>\n",
       "    </tr>\n",
       "    <tr>\n",
       "      <th>Nitya</th>\n",
       "      <td>Patna</td>\n",
       "      <td>nitya@gmail.com</td>\n",
       "    </tr>\n",
       "    <tr>\n",
       "      <th>Akshay</th>\n",
       "      <td>Ahemdabad</td>\n",
       "      <td>akshay</td>\n",
       "    </tr>\n",
       "  </tbody>\n",
       "</table>\n",
       "</div>"
      ],
      "text/plain": [
       "               City               Email\n",
       "Nimish      Lucknow    nimish@gmail.com\n",
       "Kishan       Bhopal    kishan@gmail.com\n",
       "Sarvansh  Benguluru  sarvansh@gmail.com\n",
       "Nitya         Patna     nitya@gmail.com\n",
       "Akshay    Ahemdabad              akshay"
      ]
     },
     "execution_count": 8,
     "metadata": {},
     "output_type": "execute_result"
    }
   ],
   "source": [
    "# Drop column \"State\"\n",
    "df.drop('State', axis=1)"
   ]
  },
  {
   "cell_type": "code",
   "execution_count": 9,
   "id": "9c429e08-218c-4ab8-be6a-07c3665e29fa",
   "metadata": {},
   "outputs": [
    {
     "data": {
      "text/html": [
       "<div>\n",
       "<style scoped>\n",
       "    .dataframe tbody tr th:only-of-type {\n",
       "        vertical-align: middle;\n",
       "    }\n",
       "\n",
       "    .dataframe tbody tr th {\n",
       "        vertical-align: top;\n",
       "    }\n",
       "\n",
       "    .dataframe thead th {\n",
       "        text-align: right;\n",
       "    }\n",
       "</style>\n",
       "<table border=\"1\" class=\"dataframe\">\n",
       "  <thead>\n",
       "    <tr style=\"text-align: right;\">\n",
       "      <th></th>\n",
       "      <th>State</th>\n",
       "      <th>City</th>\n",
       "      <th>Email</th>\n",
       "    </tr>\n",
       "  </thead>\n",
       "  <tbody>\n",
       "    <tr>\n",
       "      <th>Nimish</th>\n",
       "      <td>Uttar_Pradesh</td>\n",
       "      <td>Lucknow</td>\n",
       "      <td>nimish@gmail.com</td>\n",
       "    </tr>\n",
       "    <tr>\n",
       "      <th>Kishan</th>\n",
       "      <td>Madhya_Pradesh</td>\n",
       "      <td>Bhopal</td>\n",
       "      <td>kishan@gmail.com</td>\n",
       "    </tr>\n",
       "    <tr>\n",
       "      <th>Sarvansh</th>\n",
       "      <td>Kerala</td>\n",
       "      <td>Benguluru</td>\n",
       "      <td>sarvansh@gmail.com</td>\n",
       "    </tr>\n",
       "    <tr>\n",
       "      <th>Akshay</th>\n",
       "      <td>Gujarat</td>\n",
       "      <td>Ahemdabad</td>\n",
       "      <td>akshay</td>\n",
       "    </tr>\n",
       "  </tbody>\n",
       "</table>\n",
       "</div>"
      ],
      "text/plain": [
       "                   State       City               Email\n",
       "Nimish     Uttar_Pradesh    Lucknow    nimish@gmail.com\n",
       "Kishan    Madhya_Pradesh     Bhopal    kishan@gmail.com\n",
       "Sarvansh          Kerala  Benguluru  sarvansh@gmail.com\n",
       "Akshay           Gujarat  Ahemdabad              akshay"
      ]
     },
     "execution_count": 9,
     "metadata": {},
     "output_type": "execute_result"
    }
   ],
   "source": [
    "# Drop row \"Nitya\"\n",
    "df.drop('Nitya', axis=0)"
   ]
  },
  {
   "cell_type": "markdown",
   "id": "9e935315-afb1-49bd-bbbe-d83e96a589d7",
   "metadata": {},
   "source": [
    "#### In this example, we have created a DataFrame with three columns (\"State\", \"City\", and \"Email\") and five rows (\"Nimish\", \"Kishan\", \"Sarvansh\", \"NItya\" \"Akshay\". We then used the drop() function to remove column \"State\" by specifying axis=1, which indicates that we are dropping a column (as opposed to a row). We also used the drop() function to remove row \"Nitya\" by specifying axis=0, which indicates that we are dropping a row (as opposed to a column)."
   ]
  },
  {
   "cell_type": "code",
   "execution_count": null,
   "id": "c8d420b7-2d21-4aaa-84b2-6e0991bb648b",
   "metadata": {},
   "outputs": [],
   "source": []
  },
  {
   "cell_type": "markdown",
   "id": "f2c275f0-8181-4e0a-b553-a776b7b69675",
   "metadata": {},
   "source": [
    "### 5. `pivot_table()` : This is used to create a spreadsheet-style pivot table from a given DataFrame. It allows us to summarize and aggregate data by one or more columns, creating a new table that shows the relationship between those columns and some other variable(s)."
   ]
  },
  {
   "cell_type": "code",
   "execution_count": 17,
   "id": "daf7b481-c955-4da0-a7f2-e893dc356272",
   "metadata": {},
   "outputs": [
    {
     "data": {
      "text/html": [
       "<div>\n",
       "<style scoped>\n",
       "    .dataframe tbody tr th:only-of-type {\n",
       "        vertical-align: middle;\n",
       "    }\n",
       "\n",
       "    .dataframe tbody tr th {\n",
       "        vertical-align: top;\n",
       "    }\n",
       "\n",
       "    .dataframe thead tr th {\n",
       "        text-align: left;\n",
       "    }\n",
       "\n",
       "    .dataframe thead tr:last-of-type th {\n",
       "        text-align: right;\n",
       "    }\n",
       "</style>\n",
       "<table border=\"1\" class=\"dataframe\">\n",
       "  <thead>\n",
       "    <tr>\n",
       "      <th></th>\n",
       "      <th colspan=\"3\" halign=\"left\">Expenses</th>\n",
       "      <th colspan=\"3\" halign=\"left\">Sales</th>\n",
       "    </tr>\n",
       "    <tr>\n",
       "      <th>Month</th>\n",
       "      <th>Feb</th>\n",
       "      <th>Jan</th>\n",
       "      <th>Mar</th>\n",
       "      <th>Feb</th>\n",
       "      <th>Jan</th>\n",
       "      <th>Mar</th>\n",
       "    </tr>\n",
       "    <tr>\n",
       "      <th>Year</th>\n",
       "      <th></th>\n",
       "      <th></th>\n",
       "      <th></th>\n",
       "      <th></th>\n",
       "      <th></th>\n",
       "      <th></th>\n",
       "    </tr>\n",
       "  </thead>\n",
       "  <tbody>\n",
       "    <tr>\n",
       "      <th>2019</th>\n",
       "      <td>225.0</td>\n",
       "      <td>50.0</td>\n",
       "      <td>150.0</td>\n",
       "      <td>450.0</td>\n",
       "      <td>100.0</td>\n",
       "      <td>300.0</td>\n",
       "    </tr>\n",
       "    <tr>\n",
       "      <th>2020</th>\n",
       "      <td>NaN</td>\n",
       "      <td>75.0</td>\n",
       "      <td>175.0</td>\n",
       "      <td>NaN</td>\n",
       "      <td>150.0</td>\n",
       "      <td>350.0</td>\n",
       "    </tr>\n",
       "  </tbody>\n",
       "</table>\n",
       "</div>"
      ],
      "text/plain": [
       "      Expenses               Sales              \n",
       "Month      Feb   Jan    Mar    Feb    Jan    Mar\n",
       "Year                                            \n",
       "2019     225.0  50.0  150.0  450.0  100.0  300.0\n",
       "2020       NaN  75.0  175.0    NaN  150.0  350.0"
      ]
     },
     "execution_count": 17,
     "metadata": {},
     "output_type": "execute_result"
    }
   ],
   "source": [
    "# Create a DataFrame\n",
    "df = pd.DataFrame({\n",
    "    \"Year\": [2019, 2019, 2019, 2020, 2019, 2020],\n",
    "    \"Month\": [\"Jan\", \"Feb\", \"Mar\", \"Jan\", \"Feb\", \"Mar\"],\n",
    "    \"Sales\": [100, 200, 300, 150, 250, 350],\n",
    "    \"Expenses\": [50, 100, 150, 75, 125, 175]\n",
    "})\n",
    "\n",
    "# Create a pivot table to summarize the data by year and month\n",
    "pivot = df.pivot_table(values = [\"Sales\", \"Expenses\"], index = \"Year\", columns = \"Month\", aggfunc = \"sum\")\n",
    "pivot"
   ]
  },
  {
   "cell_type": "code",
   "execution_count": null,
   "id": "c9184f20-5cbc-439d-841d-d4a34460e647",
   "metadata": {},
   "outputs": [],
   "source": []
  },
  {
   "cell_type": "markdown",
   "id": "324ee3c3-9817-42f2-830f-090831e3e163",
   "metadata": {},
   "source": [
    "# Q2. Given a Pandas DataFrame df with columns 'A', 'B', and 'C', write a Python function to re-index the DataFrame with a new index that starts from 1 and increments by 2 for each row."
   ]
  },
  {
   "cell_type": "code",
   "execution_count": 12,
   "id": "540851bc-d4ac-4c0b-a544-2aecce72d3bc",
   "metadata": {},
   "outputs": [
    {
     "data": {
      "text/html": [
       "<div>\n",
       "<style scoped>\n",
       "    .dataframe tbody tr th:only-of-type {\n",
       "        vertical-align: middle;\n",
       "    }\n",
       "\n",
       "    .dataframe tbody tr th {\n",
       "        vertical-align: top;\n",
       "    }\n",
       "\n",
       "    .dataframe thead th {\n",
       "        text-align: right;\n",
       "    }\n",
       "</style>\n",
       "<table border=\"1\" class=\"dataframe\">\n",
       "  <thead>\n",
       "    <tr style=\"text-align: right;\">\n",
       "      <th></th>\n",
       "      <th>A</th>\n",
       "      <th>B</th>\n",
       "      <th>C</th>\n",
       "    </tr>\n",
       "  </thead>\n",
       "  <tbody>\n",
       "    <tr>\n",
       "      <th>0</th>\n",
       "      <td>a</td>\n",
       "      <td>g</td>\n",
       "      <td>l</td>\n",
       "    </tr>\n",
       "    <tr>\n",
       "      <th>1</th>\n",
       "      <td>b</td>\n",
       "      <td>h</td>\n",
       "      <td>m</td>\n",
       "    </tr>\n",
       "    <tr>\n",
       "      <th>2</th>\n",
       "      <td>c</td>\n",
       "      <td>i</td>\n",
       "      <td>n</td>\n",
       "    </tr>\n",
       "    <tr>\n",
       "      <th>3</th>\n",
       "      <td>d</td>\n",
       "      <td>j</td>\n",
       "      <td>o</td>\n",
       "    </tr>\n",
       "    <tr>\n",
       "      <th>4</th>\n",
       "      <td>e</td>\n",
       "      <td>k</td>\n",
       "      <td>p</td>\n",
       "    </tr>\n",
       "  </tbody>\n",
       "</table>\n",
       "</div>"
      ],
      "text/plain": [
       "   A  B  C\n",
       "0  a  g  l\n",
       "1  b  h  m\n",
       "2  c  i  n\n",
       "3  d  j  o\n",
       "4  e  k  p"
      ]
     },
     "execution_count": 12,
     "metadata": {},
     "output_type": "execute_result"
    }
   ],
   "source": [
    "# Create a sample DataFrame\n",
    "df = pd.DataFrame({\"A\":['a', 'b', 'c', 'd', 'e'],\n",
    "                   \"B\":['g', 'h', 'i', 'j', 'k' ],\n",
    "                   \"C\":['l', 'm', 'n', 'o','p']\n",
    "                  })\n",
    "df"
   ]
  },
  {
   "cell_type": "code",
   "execution_count": 13,
   "id": "16476481-9728-42d1-85fb-8784f080bd2d",
   "metadata": {},
   "outputs": [],
   "source": [
    "# Creating a Python Function to re-index the above dataframe with  new index\n",
    "def reindex_data_frame(df):\n",
    "    value = df.reindex(range(1 , len(df)+1 , 2))\n",
    "    return value"
   ]
  },
  {
   "cell_type": "code",
   "execution_count": 14,
   "id": "d7011668-6ff0-4c6d-810b-25e64080187e",
   "metadata": {},
   "outputs": [
    {
     "data": {
      "text/html": [
       "<div>\n",
       "<style scoped>\n",
       "    .dataframe tbody tr th:only-of-type {\n",
       "        vertical-align: middle;\n",
       "    }\n",
       "\n",
       "    .dataframe tbody tr th {\n",
       "        vertical-align: top;\n",
       "    }\n",
       "\n",
       "    .dataframe thead th {\n",
       "        text-align: right;\n",
       "    }\n",
       "</style>\n",
       "<table border=\"1\" class=\"dataframe\">\n",
       "  <thead>\n",
       "    <tr style=\"text-align: right;\">\n",
       "      <th></th>\n",
       "      <th>A</th>\n",
       "      <th>B</th>\n",
       "      <th>C</th>\n",
       "    </tr>\n",
       "  </thead>\n",
       "  <tbody>\n",
       "    <tr>\n",
       "      <th>1</th>\n",
       "      <td>b</td>\n",
       "      <td>h</td>\n",
       "      <td>m</td>\n",
       "    </tr>\n",
       "    <tr>\n",
       "      <th>3</th>\n",
       "      <td>d</td>\n",
       "      <td>j</td>\n",
       "      <td>o</td>\n",
       "    </tr>\n",
       "    <tr>\n",
       "      <th>5</th>\n",
       "      <td>NaN</td>\n",
       "      <td>NaN</td>\n",
       "      <td>NaN</td>\n",
       "    </tr>\n",
       "  </tbody>\n",
       "</table>\n",
       "</div>"
      ],
      "text/plain": [
       "     A    B    C\n",
       "1    b    h    m\n",
       "3    d    j    o\n",
       "5  NaN  NaN  NaN"
      ]
     },
     "execution_count": 14,
     "metadata": {},
     "output_type": "execute_result"
    }
   ],
   "source": [
    "# Re-index the DataFrame df\n",
    "reindex_data_frame(df)"
   ]
  },
  {
   "cell_type": "code",
   "execution_count": null,
   "id": "989630ed-d0e1-4861-80a7-41af38766112",
   "metadata": {},
   "outputs": [],
   "source": []
  },
  {
   "cell_type": "markdown",
   "id": "4e6d59af-2be2-4cd5-8ee7-d1e702ca0da1",
   "metadata": {},
   "source": [
    "# Q3. You have a Pandas DataFrame df with a column named 'Values'. Write a Python function that iterates over the DataFrame and calculates the sum of the first three values in the 'Values' column. The function should print the sum to the console.\n",
    "\n",
    "# For example, if the 'Values' column of df contains the values [10, 20, 30, 40, 50], your function should calculate and print the sum of the first three values, which is 60."
   ]
  },
  {
   "cell_type": "code",
   "execution_count": 16,
   "id": "917105c6-f41d-4574-a9ef-ec02f4ab50d9",
   "metadata": {},
   "outputs": [
    {
     "data": {
      "text/html": [
       "<div>\n",
       "<style scoped>\n",
       "    .dataframe tbody tr th:only-of-type {\n",
       "        vertical-align: middle;\n",
       "    }\n",
       "\n",
       "    .dataframe tbody tr th {\n",
       "        vertical-align: top;\n",
       "    }\n",
       "\n",
       "    .dataframe thead th {\n",
       "        text-align: right;\n",
       "    }\n",
       "</style>\n",
       "<table border=\"1\" class=\"dataframe\">\n",
       "  <thead>\n",
       "    <tr style=\"text-align: right;\">\n",
       "      <th></th>\n",
       "      <th>Values</th>\n",
       "    </tr>\n",
       "  </thead>\n",
       "  <tbody>\n",
       "    <tr>\n",
       "      <th>0</th>\n",
       "      <td>10</td>\n",
       "    </tr>\n",
       "    <tr>\n",
       "      <th>1</th>\n",
       "      <td>20</td>\n",
       "    </tr>\n",
       "    <tr>\n",
       "      <th>2</th>\n",
       "      <td>30</td>\n",
       "    </tr>\n",
       "    <tr>\n",
       "      <th>3</th>\n",
       "      <td>40</td>\n",
       "    </tr>\n",
       "    <tr>\n",
       "      <th>4</th>\n",
       "      <td>50</td>\n",
       "    </tr>\n",
       "  </tbody>\n",
       "</table>\n",
       "</div>"
      ],
      "text/plain": [
       "   Values\n",
       "0      10\n",
       "1      20\n",
       "2      30\n",
       "3      40\n",
       "4      50"
      ]
     },
     "execution_count": 16,
     "metadata": {},
     "output_type": "execute_result"
    }
   ],
   "source": [
    "# create sample DataFrame\n",
    "df = pd.DataFrame({\"Values\":[10, 20, 30, 40, 50]\n",
    "                  })\n",
    "# Display the dataFrame\n",
    "df"
   ]
  },
  {
   "cell_type": "code",
   "execution_count": 17,
   "id": "b9c1c7e5-9c65-4ca4-937b-06312ecb9d30",
   "metadata": {},
   "outputs": [],
   "source": [
    "# Creating function which will add the first three value of `values` column\n",
    "def sum_of_three_value (df):\n",
    "    \n",
    "    # It will give first three rows of values column\n",
    "    first_three_value = df.loc[0:2, \"Values\"]\n",
    "    \n",
    "    # adiing all three values using built-in function sum() \n",
    "    value = sum(first_three_value)\n",
    "    return value\n"
   ]
  },
  {
   "cell_type": "code",
   "execution_count": 18,
   "id": "f152662a-efd3-4047-9fa5-70eec6764fd8",
   "metadata": {},
   "outputs": [
    {
     "data": {
      "text/plain": [
       "60"
      ]
     },
     "execution_count": 18,
     "metadata": {},
     "output_type": "execute_result"
    }
   ],
   "source": [
    "sum_of_three_value(df)"
   ]
  },
  {
   "cell_type": "code",
   "execution_count": null,
   "id": "714b5d88-c19b-4155-9710-cc9b5ca160cc",
   "metadata": {},
   "outputs": [],
   "source": []
  },
  {
   "cell_type": "markdown",
   "id": "842af169-bce0-461f-abc8-1317bda835eb",
   "metadata": {},
   "source": [
    "# Q4. Given a Pandas DataFrame df with a column 'Text', write a Python function to create a new column 'Word_Count' that contains the number of words in each row of the 'Text' column."
   ]
  },
  {
   "cell_type": "code",
   "execution_count": 19,
   "id": "0c8a7547-045e-4ad9-8e59-7cb85d54ef18",
   "metadata": {},
   "outputs": [
    {
     "data": {
      "text/html": [
       "<div>\n",
       "<style scoped>\n",
       "    .dataframe tbody tr th:only-of-type {\n",
       "        vertical-align: middle;\n",
       "    }\n",
       "\n",
       "    .dataframe tbody tr th {\n",
       "        vertical-align: top;\n",
       "    }\n",
       "\n",
       "    .dataframe thead th {\n",
       "        text-align: right;\n",
       "    }\n",
       "</style>\n",
       "<table border=\"1\" class=\"dataframe\">\n",
       "  <thead>\n",
       "    <tr style=\"text-align: right;\">\n",
       "      <th></th>\n",
       "      <th>Text</th>\n",
       "    </tr>\n",
       "  </thead>\n",
       "  <tbody>\n",
       "    <tr>\n",
       "      <th>0</th>\n",
       "      <td>Hii my name is Nimish.</td>\n",
       "    </tr>\n",
       "    <tr>\n",
       "      <th>1</th>\n",
       "      <td>I am a Data Science enthusiast.</td>\n",
       "    </tr>\n",
       "    <tr>\n",
       "      <th>2</th>\n",
       "      <td>This is my Pandas assignment.</td>\n",
       "    </tr>\n",
       "    <tr>\n",
       "      <th>3</th>\n",
       "      <td>Pandas is very powerful library.</td>\n",
       "    </tr>\n",
       "  </tbody>\n",
       "</table>\n",
       "</div>"
      ],
      "text/plain": [
       "                               Text\n",
       "0            Hii my name is Nimish.\n",
       "1   I am a Data Science enthusiast.\n",
       "2     This is my Pandas assignment.\n",
       "3  Pandas is very powerful library."
      ]
     },
     "execution_count": 19,
     "metadata": {},
     "output_type": "execute_result"
    }
   ],
   "source": [
    "df = pd.DataFrame({'Text' : ['Hii my name is Nimish.','I am a Data Science enthusiast.','This is my Pandas assignment.',\n",
    "                             'Pandas is very powerful library.']})\n",
    "df"
   ]
  },
  {
   "cell_type": "code",
   "execution_count": 21,
   "id": "169c4408-45c8-45ee-8d1e-b330936072e0",
   "metadata": {},
   "outputs": [],
   "source": [
    "def word_count(df):\n",
    "    \n",
    "    df['Word_count'] = [len(i.split()) for i in df.iloc[0: , 0]]\n",
    "    return df\n"
   ]
  },
  {
   "cell_type": "code",
   "execution_count": 22,
   "id": "864b4d4f-bc54-43f2-840e-1033269163f4",
   "metadata": {},
   "outputs": [
    {
     "data": {
      "text/html": [
       "<div>\n",
       "<style scoped>\n",
       "    .dataframe tbody tr th:only-of-type {\n",
       "        vertical-align: middle;\n",
       "    }\n",
       "\n",
       "    .dataframe tbody tr th {\n",
       "        vertical-align: top;\n",
       "    }\n",
       "\n",
       "    .dataframe thead th {\n",
       "        text-align: right;\n",
       "    }\n",
       "</style>\n",
       "<table border=\"1\" class=\"dataframe\">\n",
       "  <thead>\n",
       "    <tr style=\"text-align: right;\">\n",
       "      <th></th>\n",
       "      <th>Text</th>\n",
       "      <th>Word_count</th>\n",
       "    </tr>\n",
       "  </thead>\n",
       "  <tbody>\n",
       "    <tr>\n",
       "      <th>0</th>\n",
       "      <td>Hii my name is Nimish.</td>\n",
       "      <td>5</td>\n",
       "    </tr>\n",
       "    <tr>\n",
       "      <th>1</th>\n",
       "      <td>I am a Data Science enthusiast.</td>\n",
       "      <td>6</td>\n",
       "    </tr>\n",
       "    <tr>\n",
       "      <th>2</th>\n",
       "      <td>This is my Pandas assignment.</td>\n",
       "      <td>5</td>\n",
       "    </tr>\n",
       "    <tr>\n",
       "      <th>3</th>\n",
       "      <td>Pandas is very powerful library.</td>\n",
       "      <td>5</td>\n",
       "    </tr>\n",
       "  </tbody>\n",
       "</table>\n",
       "</div>"
      ],
      "text/plain": [
       "                               Text  Word_count\n",
       "0            Hii my name is Nimish.           5\n",
       "1   I am a Data Science enthusiast.           6\n",
       "2     This is my Pandas assignment.           5\n",
       "3  Pandas is very powerful library.           5"
      ]
     },
     "execution_count": 22,
     "metadata": {},
     "output_type": "execute_result"
    }
   ],
   "source": [
    "word_count(df)"
   ]
  },
  {
   "cell_type": "code",
   "execution_count": null,
   "id": "572aaf80-a376-4970-9966-926cb165dcdf",
   "metadata": {},
   "outputs": [],
   "source": []
  },
  {
   "cell_type": "markdown",
   "id": "d806a784-846d-44c7-9b22-17209b10a5d4",
   "metadata": {},
   "source": [
    "# Q5. How are DataFrame.size() and DataFrame.shape() different?\n",
    "\n",
    "#### Both DataFrame.size() and DataFrame.shape() are attributes in Pandas library for DataFrames, but they return different information.\n",
    "\n",
    "#### `DataFrame.size` returns the total number of elements (cells) in the DataFrame, which is equal to the product of the number of rows and columns in the DataFrame. This is equivalent to calling DataFrame.shape[0] * DataFrame.shape[1].\n",
    "\n",
    "#### `DataFrame.shape` returns a tuple with two elements: the number of rows and the number of columns in the DataFrame.\n",
    "\n",
    "#### Here's an example that demonstrates the difference between DataFrame.size and DataFrame.shape:"
   ]
  },
  {
   "cell_type": "code",
   "execution_count": 39,
   "id": "04dc858d-c0f3-498c-a4a0-4cf5845e2840",
   "metadata": {},
   "outputs": [
    {
     "name": "stdout",
     "output_type": "stream",
     "text": [
      "DataFrame.shape : (4, 2) 'Four rows and two columns'\n",
      "DataFrame.size : 8 'Four rows * two columns' \n"
     ]
    }
   ],
   "source": [
    "df = pd.DataFrame({\n",
    "    \"A\": [1, 2, None, 4],\n",
    "    \"B\": [5, None, 7, 8]\n",
    "})\n",
    "\n",
    "print(f\"DataFrame.shape : {df.shape} 'Four rows and two columns'\")\n",
    "print(f\"DataFrame.size : {df.size} 'Four rows * two columns' \") "
   ]
  },
  {
   "cell_type": "code",
   "execution_count": null,
   "id": "f6b23278-5373-4754-a4ad-e47b4fcaf7ea",
   "metadata": {},
   "outputs": [],
   "source": []
  },
  {
   "cell_type": "markdown",
   "id": "b538fce4-fdff-4f8b-a576-d270e7f10984",
   "metadata": {},
   "source": [
    "# Q6. Which function of pandas do we use to read an excel file?\n",
    "\n",
    "#### To read an Excel file in Pandas, we can use the `read_excel()` function. This function is part of the Pandas IO tools and can read data from Excel files with various extensions like .xlsx, .xls, and .xlsm."
   ]
  },
  {
   "cell_type": "code",
   "execution_count": null,
   "id": "072f1e8c-cf96-4dce-8075-1fcf328d4b98",
   "metadata": {},
   "outputs": [],
   "source": [
    "# read the excel file into a pandas DataFrame\n",
    "df = pd.read_excel('File_Name.xlsx', sheet_name='Sheet1')"
   ]
  },
  {
   "cell_type": "markdown",
   "id": "099d01e9-a989-4f3e-81d0-dd5b5f7a077c",
   "metadata": {},
   "source": [
    "#### In the above code, File_Name.xlsx is the name of the Excel file you want to read, and Sheet1 is the name of the sheet you want to read (if there are multiple sheets in the file)."
   ]
  },
  {
   "cell_type": "code",
   "execution_count": null,
   "id": "7412c05c-d535-499f-886e-c1a43bb2d394",
   "metadata": {},
   "outputs": [],
   "source": []
  },
  {
   "cell_type": "markdown",
   "id": "7b43fafd-11be-4167-bda4-66f144878a32",
   "metadata": {},
   "source": [
    "# Q7. You have a Pandas DataFrame df that contains a column named 'Email' that contains email addresses in the format 'username@domain.com'. Write a Python function that creates a new column 'Username' in df that contains only the username part of each email address.\n",
    "\n",
    "# The username is the part of the email address that appears before the '@' symbol. For example, if the email address is 'john.doe@example.com', the 'Username' column should contain 'john.doe'. Your function should extract the username from each email address and store it in the new 'Username' column."
   ]
  },
  {
   "cell_type": "code",
   "execution_count": 83,
   "id": "091d3057-6661-49ff-b37a-67c6f53bbb22",
   "metadata": {},
   "outputs": [
    {
     "data": {
      "text/html": [
       "<div>\n",
       "<style scoped>\n",
       "    .dataframe tbody tr th:only-of-type {\n",
       "        vertical-align: middle;\n",
       "    }\n",
       "\n",
       "    .dataframe tbody tr th {\n",
       "        vertical-align: top;\n",
       "    }\n",
       "\n",
       "    .dataframe thead th {\n",
       "        text-align: right;\n",
       "    }\n",
       "</style>\n",
       "<table border=\"1\" class=\"dataframe\">\n",
       "  <thead>\n",
       "    <tr style=\"text-align: right;\">\n",
       "      <th></th>\n",
       "      <th>Email</th>\n",
       "    </tr>\n",
       "  </thead>\n",
       "  <tbody>\n",
       "    <tr>\n",
       "      <th>0</th>\n",
       "      <td>nimish@gmail.com</td>\n",
       "    </tr>\n",
       "    <tr>\n",
       "      <th>1</th>\n",
       "      <td>akshay@gmail.comin</td>\n",
       "    </tr>\n",
       "    <tr>\n",
       "      <th>2</th>\n",
       "      <td>uppolice@gmail.com</td>\n",
       "    </tr>\n",
       "    <tr>\n",
       "      <th>3</th>\n",
       "      <td>Ineuron@gmail.com</td>\n",
       "    </tr>\n",
       "    <tr>\n",
       "      <th>4</th>\n",
       "      <td>Mygov@gmail.com</td>\n",
       "    </tr>\n",
       "  </tbody>\n",
       "</table>\n",
       "</div>"
      ],
      "text/plain": [
       "                Email\n",
       "0    nimish@gmail.com\n",
       "1  akshay@gmail.comin\n",
       "2  uppolice@gmail.com\n",
       "3   Ineuron@gmail.com\n",
       "4     Mygov@gmail.com"
      ]
     },
     "execution_count": 83,
     "metadata": {},
     "output_type": "execute_result"
    }
   ],
   "source": [
    "df = pd.DataFrame({'Email':['nimish@gmail.com','akshay@gmail.comin','uppolice@gmail.com',\n",
    "                            'Ineuron@gmail.com','Mygov@gmail.com']})\n",
    "\n",
    "df"
   ]
  },
  {
   "cell_type": "code",
   "execution_count": 84,
   "id": "6c1d6520-218c-4e97-bdd4-1f895b3f4c88",
   "metadata": {},
   "outputs": [
    {
     "data": {
      "text/html": [
       "<div>\n",
       "<style scoped>\n",
       "    .dataframe tbody tr th:only-of-type {\n",
       "        vertical-align: middle;\n",
       "    }\n",
       "\n",
       "    .dataframe tbody tr th {\n",
       "        vertical-align: top;\n",
       "    }\n",
       "\n",
       "    .dataframe thead th {\n",
       "        text-align: right;\n",
       "    }\n",
       "</style>\n",
       "<table border=\"1\" class=\"dataframe\">\n",
       "  <thead>\n",
       "    <tr style=\"text-align: right;\">\n",
       "      <th></th>\n",
       "      <th>Email</th>\n",
       "      <th>Username</th>\n",
       "    </tr>\n",
       "  </thead>\n",
       "  <tbody>\n",
       "    <tr>\n",
       "      <th>0</th>\n",
       "      <td>nimish@gmail.com</td>\n",
       "      <td>nimish</td>\n",
       "    </tr>\n",
       "    <tr>\n",
       "      <th>1</th>\n",
       "      <td>akshay@gmail.comin</td>\n",
       "      <td>akshay</td>\n",
       "    </tr>\n",
       "    <tr>\n",
       "      <th>2</th>\n",
       "      <td>uppolice@gmail.com</td>\n",
       "      <td>uppolice</td>\n",
       "    </tr>\n",
       "    <tr>\n",
       "      <th>3</th>\n",
       "      <td>Ineuron@gmail.com</td>\n",
       "      <td>Ineuron</td>\n",
       "    </tr>\n",
       "    <tr>\n",
       "      <th>4</th>\n",
       "      <td>Mygov@gmail.com</td>\n",
       "      <td>Mygov</td>\n",
       "    </tr>\n",
       "  </tbody>\n",
       "</table>\n",
       "</div>"
      ],
      "text/plain": [
       "                Email  Username\n",
       "0    nimish@gmail.com    nimish\n",
       "1  akshay@gmail.comin    akshay\n",
       "2  uppolice@gmail.com  uppolice\n",
       "3   Ineuron@gmail.com   Ineuron\n",
       "4     Mygov@gmail.com     Mygov"
      ]
     },
     "execution_count": 84,
     "metadata": {},
     "output_type": "execute_result"
    }
   ],
   "source": [
    "def username(df):\n",
    "    \n",
    "    # create a new column 'Username' by splitting the 'Email' column using '@' symbol\n",
    "    df['Username'] = df['Email'].str.split('@').str[0]\n",
    "    return df\n",
    "    \n",
    "username(df)"
   ]
  },
  {
   "cell_type": "markdown",
   "id": "ac892acf-c105-4a49-944f-6f922adec96c",
   "metadata": {},
   "source": [
    "#### In the above code the str.split() method is applied to the 'Email' column of the DataFrame df. The '@' symbol is specified as the delimiter to split the string and the [0] index is used to select the first part of the split, which is the username.\n",
    "\n",
    "#### str.split() is a method of the Pandas Series object that is used to split a string into a list of substrings based on a specified delimiter."
   ]
  },
  {
   "cell_type": "code",
   "execution_count": null,
   "id": "6a4bc5be-d03a-42a1-8c3a-db01e9f8ae73",
   "metadata": {},
   "outputs": [],
   "source": []
  },
  {
   "cell_type": "markdown",
   "id": "91d18612-25d0-446f-a506-f8111b168682",
   "metadata": {},
   "source": [
    "# Q8. You have a Pandas DataFrame df with columns 'A', 'B', and 'C'. Write a Python function that selects all rows where the value in column 'A' is greater than 5 and the value in column 'B' is less than 10. The function should return a new DataFrame that contains only the selected rows.\n",
    "\n",
    "# For example, if df contains the following values:"
   ]
  },
  {
   "cell_type": "markdown",
   "id": "5f2b6156-149c-4b0d-9ae0-58c6664a1550",
   "metadata": {},
   "source": [
    "| |A|B|C|\n",
    "|-|-|-|-|\n",
    "|0|3|5|1|\n",
    "|1|8|2|7|\n",
    "|2|6|9|4|\n",
    "|3|2|3|5|\n",
    "|4|9|1|2|"
   ]
  },
  {
   "cell_type": "markdown",
   "id": "f3b0d344-39e3-4d84-806b-866699d4c461",
   "metadata": {},
   "source": [
    "# Your function should select the following rows: A B C"
   ]
  },
  {
   "cell_type": "markdown",
   "id": "b8c66093-577b-489d-90b2-46c59256ff1c",
   "metadata": {},
   "source": [
    "| |A|B|C|\n",
    "|-|-|-|-|\n",
    "|1|8|2|7|\n",
    "|4|9|1|2|"
   ]
  },
  {
   "cell_type": "code",
   "execution_count": 23,
   "id": "fe8a92ed-59ec-4965-b3a6-8ca8b6400ead",
   "metadata": {},
   "outputs": [
    {
     "data": {
      "text/html": [
       "<div>\n",
       "<style scoped>\n",
       "    .dataframe tbody tr th:only-of-type {\n",
       "        vertical-align: middle;\n",
       "    }\n",
       "\n",
       "    .dataframe tbody tr th {\n",
       "        vertical-align: top;\n",
       "    }\n",
       "\n",
       "    .dataframe thead th {\n",
       "        text-align: right;\n",
       "    }\n",
       "</style>\n",
       "<table border=\"1\" class=\"dataframe\">\n",
       "  <thead>\n",
       "    <tr style=\"text-align: right;\">\n",
       "      <th></th>\n",
       "      <th>A</th>\n",
       "      <th>B</th>\n",
       "      <th>C</th>\n",
       "    </tr>\n",
       "  </thead>\n",
       "  <tbody>\n",
       "    <tr>\n",
       "      <th>0</th>\n",
       "      <td>3</td>\n",
       "      <td>5</td>\n",
       "      <td>1</td>\n",
       "    </tr>\n",
       "    <tr>\n",
       "      <th>1</th>\n",
       "      <td>8</td>\n",
       "      <td>2</td>\n",
       "      <td>7</td>\n",
       "    </tr>\n",
       "    <tr>\n",
       "      <th>2</th>\n",
       "      <td>6</td>\n",
       "      <td>9</td>\n",
       "      <td>4</td>\n",
       "    </tr>\n",
       "    <tr>\n",
       "      <th>3</th>\n",
       "      <td>2</td>\n",
       "      <td>3</td>\n",
       "      <td>5</td>\n",
       "    </tr>\n",
       "    <tr>\n",
       "      <th>4</th>\n",
       "      <td>9</td>\n",
       "      <td>1</td>\n",
       "      <td>2</td>\n",
       "    </tr>\n",
       "  </tbody>\n",
       "</table>\n",
       "</div>"
      ],
      "text/plain": [
       "   A  B  C\n",
       "0  3  5  1\n",
       "1  8  2  7\n",
       "2  6  9  4\n",
       "3  2  3  5\n",
       "4  9  1  2"
      ]
     },
     "execution_count": 23,
     "metadata": {},
     "output_type": "execute_result"
    }
   ],
   "source": [
    "# Creating the example DataFrame\n",
    "df = pd.DataFrame({'A':[3,8,6,2,9],'B':[5,2,9,3,1],'C':[1,7,4,5,2]})\n",
    "df"
   ]
  },
  {
   "cell_type": "code",
   "execution_count": 24,
   "id": "041cdda6-a1bd-4185-a510-055f06ffb9c3",
   "metadata": {},
   "outputs": [],
   "source": [
    "def select_row(df):\n",
    "    # select rows where 'A' is greater than 5 and 'B' is less than 10\n",
    "    new_df= df[ (df['A'] > 5)  &  (df['B'] < 10) ]\n",
    "    return new_df"
   ]
  },
  {
   "cell_type": "code",
   "execution_count": 25,
   "id": "97eedd79-0cad-4bab-95fe-157ff966876a",
   "metadata": {},
   "outputs": [
    {
     "data": {
      "text/html": [
       "<div>\n",
       "<style scoped>\n",
       "    .dataframe tbody tr th:only-of-type {\n",
       "        vertical-align: middle;\n",
       "    }\n",
       "\n",
       "    .dataframe tbody tr th {\n",
       "        vertical-align: top;\n",
       "    }\n",
       "\n",
       "    .dataframe thead th {\n",
       "        text-align: right;\n",
       "    }\n",
       "</style>\n",
       "<table border=\"1\" class=\"dataframe\">\n",
       "  <thead>\n",
       "    <tr style=\"text-align: right;\">\n",
       "      <th></th>\n",
       "      <th>A</th>\n",
       "      <th>B</th>\n",
       "      <th>C</th>\n",
       "    </tr>\n",
       "  </thead>\n",
       "  <tbody>\n",
       "    <tr>\n",
       "      <th>1</th>\n",
       "      <td>8</td>\n",
       "      <td>2</td>\n",
       "      <td>7</td>\n",
       "    </tr>\n",
       "    <tr>\n",
       "      <th>2</th>\n",
       "      <td>6</td>\n",
       "      <td>9</td>\n",
       "      <td>4</td>\n",
       "    </tr>\n",
       "    <tr>\n",
       "      <th>4</th>\n",
       "      <td>9</td>\n",
       "      <td>1</td>\n",
       "      <td>2</td>\n",
       "    </tr>\n",
       "  </tbody>\n",
       "</table>\n",
       "</div>"
      ],
      "text/plain": [
       "   A  B  C\n",
       "1  8  2  7\n",
       "2  6  9  4\n",
       "4  9  1  2"
      ]
     },
     "execution_count": 25,
     "metadata": {},
     "output_type": "execute_result"
    }
   ],
   "source": [
    "select_row(df)"
   ]
  },
  {
   "cell_type": "markdown",
   "id": "51564ea2-146d-46a1-9721-47bdd97aa3e7",
   "metadata": {},
   "source": [
    "### Note : With respect to the given condition the above question will display three rows. But in question it said the function should select only two rows  which is not true according to given condition."
   ]
  },
  {
   "cell_type": "code",
   "execution_count": null,
   "id": "4057f697-88c4-4c48-a1b5-ca0858976cba",
   "metadata": {},
   "outputs": [],
   "source": []
  },
  {
   "cell_type": "markdown",
   "id": "231df45e-eb20-475b-ac19-4c95975af6ab",
   "metadata": {},
   "source": [
    "# Q9. Given a Pandas DataFrame df with a column 'Values', write a Python function to calculate the mean, median, and standard deviation of the values in the 'Values' column."
   ]
  },
  {
   "cell_type": "code",
   "execution_count": 17,
   "id": "c51b5853-09f2-4525-90d7-4a064f5dd2ea",
   "metadata": {},
   "outputs": [],
   "source": [
    "def calculate_stats(df):\n",
    "    mean = df['Values'].mean()\n",
    "    median = df['Values'].median()\n",
    "    std = df['Values'].std()\n",
    "    return mean, median, std"
   ]
  },
  {
   "cell_type": "code",
   "execution_count": 18,
   "id": "64f3a962-62f8-406c-8129-66086655d00f",
   "metadata": {},
   "outputs": [
    {
     "data": {
      "text/html": [
       "<div>\n",
       "<style scoped>\n",
       "    .dataframe tbody tr th:only-of-type {\n",
       "        vertical-align: middle;\n",
       "    }\n",
       "\n",
       "    .dataframe tbody tr th {\n",
       "        vertical-align: top;\n",
       "    }\n",
       "\n",
       "    .dataframe thead th {\n",
       "        text-align: right;\n",
       "    }\n",
       "</style>\n",
       "<table border=\"1\" class=\"dataframe\">\n",
       "  <thead>\n",
       "    <tr style=\"text-align: right;\">\n",
       "      <th></th>\n",
       "      <th>Values</th>\n",
       "    </tr>\n",
       "  </thead>\n",
       "  <tbody>\n",
       "    <tr>\n",
       "      <th>0</th>\n",
       "      <td>10</td>\n",
       "    </tr>\n",
       "    <tr>\n",
       "      <th>1</th>\n",
       "      <td>23</td>\n",
       "    </tr>\n",
       "    <tr>\n",
       "      <th>2</th>\n",
       "      <td>45</td>\n",
       "    </tr>\n",
       "    <tr>\n",
       "      <th>3</th>\n",
       "      <td>53</td>\n",
       "    </tr>\n",
       "    <tr>\n",
       "      <th>4</th>\n",
       "      <td>93</td>\n",
       "    </tr>\n",
       "  </tbody>\n",
       "</table>\n",
       "</div>"
      ],
      "text/plain": [
       "   Values\n",
       "0      10\n",
       "1      23\n",
       "2      45\n",
       "3      53\n",
       "4      93"
      ]
     },
     "execution_count": 18,
     "metadata": {},
     "output_type": "execute_result"
    }
   ],
   "source": [
    "df = pd.DataFrame({'Values': [10,23,45,53,93]})\n",
    "df"
   ]
  },
  {
   "cell_type": "code",
   "execution_count": 28,
   "id": "76bcffd2-f880-4c40-9480-a488e4fd30cd",
   "metadata": {},
   "outputs": [
    {
     "name": "stdout",
     "output_type": "stream",
     "text": [
      "Mean Value = 44.8 \n",
      "Median Value = 45.0 \n",
      "Std Value = 31.924911902775865\n"
     ]
    }
   ],
   "source": [
    "mean_value, median_value, std_value =  calculate_stats(df)\n",
    "print(\"Mean Value = {} \\nMedian Value = {} \\nStd Value = {}\".format(mean_value, median_value, std_value))"
   ]
  },
  {
   "cell_type": "code",
   "execution_count": null,
   "id": "66c5d3fe-bf89-43e9-b54a-675579e2a98b",
   "metadata": {},
   "outputs": [],
   "source": []
  },
  {
   "cell_type": "markdown",
   "id": "1f69fab5-d984-4603-b6f7-61d9113a7938",
   "metadata": {},
   "source": [
    "# Q10. Given a Pandas DataFrame df with a column 'Sales' and a column 'Date', write a Python function to create a new column 'MovingAverage' that contains the moving average of the sales for the past 7 days for each row in the DataFrame. The moving average should be calculated using a window of size 7 and should include the current day."
   ]
  },
  {
   "cell_type": "code",
   "execution_count": 5,
   "id": "7ebbf885-30fc-4033-ab0e-f004cf99d77a",
   "metadata": {},
   "outputs": [],
   "source": [
    "def moving_average(df):\n",
    "    average = df['Sales'].rolling(window=7, min_periods=1).mean()\n",
    "    df['MovingAverage'] = average\n",
    "    return df"
   ]
  },
  {
   "cell_type": "code",
   "execution_count": 6,
   "id": "f7316580-4e79-4127-b2c9-2778859e9267",
   "metadata": {},
   "outputs": [
    {
     "data": {
      "text/html": [
       "<div>\n",
       "<style scoped>\n",
       "    .dataframe tbody tr th:only-of-type {\n",
       "        vertical-align: middle;\n",
       "    }\n",
       "\n",
       "    .dataframe tbody tr th {\n",
       "        vertical-align: top;\n",
       "    }\n",
       "\n",
       "    .dataframe thead th {\n",
       "        text-align: right;\n",
       "    }\n",
       "</style>\n",
       "<table border=\"1\" class=\"dataframe\">\n",
       "  <thead>\n",
       "    <tr style=\"text-align: right;\">\n",
       "      <th></th>\n",
       "      <th>Date</th>\n",
       "      <th>Sales</th>\n",
       "    </tr>\n",
       "  </thead>\n",
       "  <tbody>\n",
       "    <tr>\n",
       "      <th>0</th>\n",
       "      <td>2022-01-01</td>\n",
       "      <td>14</td>\n",
       "    </tr>\n",
       "    <tr>\n",
       "      <th>1</th>\n",
       "      <td>2022-01-02</td>\n",
       "      <td>24</td>\n",
       "    </tr>\n",
       "    <tr>\n",
       "      <th>2</th>\n",
       "      <td>2022-01-03</td>\n",
       "      <td>36</td>\n",
       "    </tr>\n",
       "    <tr>\n",
       "      <th>3</th>\n",
       "      <td>2022-01-04</td>\n",
       "      <td>11</td>\n",
       "    </tr>\n",
       "    <tr>\n",
       "      <th>4</th>\n",
       "      <td>2022-01-05</td>\n",
       "      <td>42</td>\n",
       "    </tr>\n",
       "    <tr>\n",
       "      <th>5</th>\n",
       "      <td>2022-01-06</td>\n",
       "      <td>74</td>\n",
       "    </tr>\n",
       "    <tr>\n",
       "      <th>6</th>\n",
       "      <td>2022-01-07</td>\n",
       "      <td>32</td>\n",
       "    </tr>\n",
       "    <tr>\n",
       "      <th>7</th>\n",
       "      <td>2022-01-08</td>\n",
       "      <td>51</td>\n",
       "    </tr>\n",
       "    <tr>\n",
       "      <th>8</th>\n",
       "      <td>2022-01-09</td>\n",
       "      <td>97</td>\n",
       "    </tr>\n",
       "    <tr>\n",
       "      <th>9</th>\n",
       "      <td>2022-01-10</td>\n",
       "      <td>97</td>\n",
       "    </tr>\n",
       "    <tr>\n",
       "      <th>10</th>\n",
       "      <td>2022-01-11</td>\n",
       "      <td>95</td>\n",
       "    </tr>\n",
       "    <tr>\n",
       "      <th>11</th>\n",
       "      <td>2022-01-12</td>\n",
       "      <td>111</td>\n",
       "    </tr>\n",
       "    <tr>\n",
       "      <th>12</th>\n",
       "      <td>2022-01-13</td>\n",
       "      <td>34</td>\n",
       "    </tr>\n",
       "    <tr>\n",
       "      <th>13</th>\n",
       "      <td>2022-01-14</td>\n",
       "      <td>55</td>\n",
       "    </tr>\n",
       "  </tbody>\n",
       "</table>\n",
       "</div>"
      ],
      "text/plain": [
       "          Date  Sales\n",
       "0   2022-01-01     14\n",
       "1   2022-01-02     24\n",
       "2   2022-01-03     36\n",
       "3   2022-01-04     11\n",
       "4   2022-01-05     42\n",
       "5   2022-01-06     74\n",
       "6   2022-01-07     32\n",
       "7   2022-01-08     51\n",
       "8   2022-01-09     97\n",
       "9   2022-01-10     97\n",
       "10  2022-01-11     95\n",
       "11  2022-01-12    111\n",
       "12  2022-01-13     34\n",
       "13  2022-01-14     55"
      ]
     },
     "execution_count": 6,
     "metadata": {},
     "output_type": "execute_result"
    }
   ],
   "source": [
    "df = pd.DataFrame({\n",
    "    'Date': ['2022-01-01', '2022-01-02', '2022-01-03', '2022-01-04', '2022-01-05', '2022-01-06', '2022-01-07', '2022-01-08',\n",
    "             '2022-01-09', '2022-01-10', '2022-01-11', '2022-01-12', '2022-01-13', '2022-01-14'],\n",
    "    'Sales': [14, 24, 36, 11, 42, 74, 32, 51, 97, 97, 95, 111, 34, 55]\n",
    "})\n",
    "df"
   ]
  },
  {
   "cell_type": "code",
   "execution_count": 7,
   "id": "51d97cdb-ab13-4ace-8375-746cbea6ef8b",
   "metadata": {},
   "outputs": [
    {
     "data": {
      "text/html": [
       "<div>\n",
       "<style scoped>\n",
       "    .dataframe tbody tr th:only-of-type {\n",
       "        vertical-align: middle;\n",
       "    }\n",
       "\n",
       "    .dataframe tbody tr th {\n",
       "        vertical-align: top;\n",
       "    }\n",
       "\n",
       "    .dataframe thead th {\n",
       "        text-align: right;\n",
       "    }\n",
       "</style>\n",
       "<table border=\"1\" class=\"dataframe\">\n",
       "  <thead>\n",
       "    <tr style=\"text-align: right;\">\n",
       "      <th></th>\n",
       "      <th>Date</th>\n",
       "      <th>Sales</th>\n",
       "      <th>MovingAverage</th>\n",
       "    </tr>\n",
       "  </thead>\n",
       "  <tbody>\n",
       "    <tr>\n",
       "      <th>0</th>\n",
       "      <td>2022-01-01</td>\n",
       "      <td>14</td>\n",
       "      <td>14.000000</td>\n",
       "    </tr>\n",
       "    <tr>\n",
       "      <th>1</th>\n",
       "      <td>2022-01-02</td>\n",
       "      <td>24</td>\n",
       "      <td>19.000000</td>\n",
       "    </tr>\n",
       "    <tr>\n",
       "      <th>2</th>\n",
       "      <td>2022-01-03</td>\n",
       "      <td>36</td>\n",
       "      <td>24.666667</td>\n",
       "    </tr>\n",
       "    <tr>\n",
       "      <th>3</th>\n",
       "      <td>2022-01-04</td>\n",
       "      <td>11</td>\n",
       "      <td>21.250000</td>\n",
       "    </tr>\n",
       "    <tr>\n",
       "      <th>4</th>\n",
       "      <td>2022-01-05</td>\n",
       "      <td>42</td>\n",
       "      <td>25.400000</td>\n",
       "    </tr>\n",
       "    <tr>\n",
       "      <th>5</th>\n",
       "      <td>2022-01-06</td>\n",
       "      <td>74</td>\n",
       "      <td>33.500000</td>\n",
       "    </tr>\n",
       "    <tr>\n",
       "      <th>6</th>\n",
       "      <td>2022-01-07</td>\n",
       "      <td>32</td>\n",
       "      <td>33.285714</td>\n",
       "    </tr>\n",
       "    <tr>\n",
       "      <th>7</th>\n",
       "      <td>2022-01-08</td>\n",
       "      <td>51</td>\n",
       "      <td>38.571429</td>\n",
       "    </tr>\n",
       "    <tr>\n",
       "      <th>8</th>\n",
       "      <td>2022-01-09</td>\n",
       "      <td>97</td>\n",
       "      <td>49.000000</td>\n",
       "    </tr>\n",
       "    <tr>\n",
       "      <th>9</th>\n",
       "      <td>2022-01-10</td>\n",
       "      <td>97</td>\n",
       "      <td>57.714286</td>\n",
       "    </tr>\n",
       "    <tr>\n",
       "      <th>10</th>\n",
       "      <td>2022-01-11</td>\n",
       "      <td>95</td>\n",
       "      <td>69.714286</td>\n",
       "    </tr>\n",
       "    <tr>\n",
       "      <th>11</th>\n",
       "      <td>2022-01-12</td>\n",
       "      <td>111</td>\n",
       "      <td>79.571429</td>\n",
       "    </tr>\n",
       "    <tr>\n",
       "      <th>12</th>\n",
       "      <td>2022-01-13</td>\n",
       "      <td>34</td>\n",
       "      <td>73.857143</td>\n",
       "    </tr>\n",
       "    <tr>\n",
       "      <th>13</th>\n",
       "      <td>2022-01-14</td>\n",
       "      <td>55</td>\n",
       "      <td>77.142857</td>\n",
       "    </tr>\n",
       "  </tbody>\n",
       "</table>\n",
       "</div>"
      ],
      "text/plain": [
       "          Date  Sales  MovingAverage\n",
       "0   2022-01-01     14      14.000000\n",
       "1   2022-01-02     24      19.000000\n",
       "2   2022-01-03     36      24.666667\n",
       "3   2022-01-04     11      21.250000\n",
       "4   2022-01-05     42      25.400000\n",
       "5   2022-01-06     74      33.500000\n",
       "6   2022-01-07     32      33.285714\n",
       "7   2022-01-08     51      38.571429\n",
       "8   2022-01-09     97      49.000000\n",
       "9   2022-01-10     97      57.714286\n",
       "10  2022-01-11     95      69.714286\n",
       "11  2022-01-12    111      79.571429\n",
       "12  2022-01-13     34      73.857143\n",
       "13  2022-01-14     55      77.142857"
      ]
     },
     "execution_count": 7,
     "metadata": {},
     "output_type": "execute_result"
    }
   ],
   "source": [
    "moving_average(df)"
   ]
  },
  {
   "cell_type": "code",
   "execution_count": null,
   "id": "5a02e51e-0c75-48f5-8011-f17f25e1d983",
   "metadata": {},
   "outputs": [],
   "source": []
  },
  {
   "cell_type": "markdown",
   "id": "7f31b40a-b6d3-4a53-914a-8a12756c88a5",
   "metadata": {},
   "source": [
    "# Q11. You have a Pandas DataFrame df with a column 'Date'. Write a Python function that creates a new column 'Weekday' in the DataFrame. The 'Weekday' column should contain the weekday name (e.g. Monday, Tuesday) corresponding to each date in the 'Date' column.\n",
    "\n",
    "# For example, if df contains the following values:"
   ]
  },
  {
   "cell_type": "markdown",
   "id": "3d16be68-f9aa-4c3f-b240-fe380309a278",
   "metadata": {},
   "source": [
    "| |Date|\n",
    "|-|-|\n",
    "|0|2023-01-01|\n",
    "|1|2023-01-02|\n",
    "|2|2023-01-03|\n",
    "|3|2023-01-04|\n",
    "|4|2023-01-05|"
   ]
  },
  {
   "cell_type": "markdown",
   "id": "a646b578-d0a2-4bcf-b411-9327141d57ae",
   "metadata": {},
   "source": [
    "# Your function should create the following DataFrame:"
   ]
  },
  {
   "cell_type": "markdown",
   "id": "e9217bd0-1cbf-44cb-bbf5-9a665baee4d8",
   "metadata": {},
   "source": [
    "| |Date|Weekday|\n",
    "|-|-|-|\n",
    "|0|2023-01-01|Sunday|\n",
    "|1|2023-01-02|Monday|\n",
    "|2|2023-01-03|Tuesday|\n",
    "|3|2023-01-04|Wednesday|\n",
    "|4|2023-01-05|Thursday|"
   ]
  },
  {
   "cell_type": "markdown",
   "id": "18b4ed2e-4ba0-4e61-b62a-28df0a0282da",
   "metadata": {},
   "source": [
    "# The function should return the modified DataFrame."
   ]
  },
  {
   "cell_type": "code",
   "execution_count": 2,
   "id": "95d8bf45-6ad8-4207-b898-f3d1d50f9547",
   "metadata": {},
   "outputs": [
    {
     "data": {
      "text/html": [
       "<div>\n",
       "<style scoped>\n",
       "    .dataframe tbody tr th:only-of-type {\n",
       "        vertical-align: middle;\n",
       "    }\n",
       "\n",
       "    .dataframe tbody tr th {\n",
       "        vertical-align: top;\n",
       "    }\n",
       "\n",
       "    .dataframe thead th {\n",
       "        text-align: right;\n",
       "    }\n",
       "</style>\n",
       "<table border=\"1\" class=\"dataframe\">\n",
       "  <thead>\n",
       "    <tr style=\"text-align: right;\">\n",
       "      <th></th>\n",
       "      <th>Date</th>\n",
       "    </tr>\n",
       "  </thead>\n",
       "  <tbody>\n",
       "    <tr>\n",
       "      <th>0</th>\n",
       "      <td>2023-01-01</td>\n",
       "    </tr>\n",
       "    <tr>\n",
       "      <th>1</th>\n",
       "      <td>2023-01-02</td>\n",
       "    </tr>\n",
       "    <tr>\n",
       "      <th>2</th>\n",
       "      <td>2023-01-03</td>\n",
       "    </tr>\n",
       "    <tr>\n",
       "      <th>3</th>\n",
       "      <td>2023-01-04</td>\n",
       "    </tr>\n",
       "    <tr>\n",
       "      <th>4</th>\n",
       "      <td>2023-01-05</td>\n",
       "    </tr>\n",
       "    <tr>\n",
       "      <th>5</th>\n",
       "      <td>2023-02-10</td>\n",
       "    </tr>\n",
       "    <tr>\n",
       "      <th>6</th>\n",
       "      <td>2023-02-24</td>\n",
       "    </tr>\n",
       "    <tr>\n",
       "      <th>7</th>\n",
       "      <td>2023-03-08</td>\n",
       "    </tr>\n",
       "    <tr>\n",
       "      <th>8</th>\n",
       "      <td>2023-03-09</td>\n",
       "    </tr>\n",
       "  </tbody>\n",
       "</table>\n",
       "</div>"
      ],
      "text/plain": [
       "         Date\n",
       "0  2023-01-01\n",
       "1  2023-01-02\n",
       "2  2023-01-03\n",
       "3  2023-01-04\n",
       "4  2023-01-05\n",
       "5  2023-02-10\n",
       "6  2023-02-24\n",
       "7  2023-03-08\n",
       "8  2023-03-09"
      ]
     },
     "execution_count": 2,
     "metadata": {},
     "output_type": "execute_result"
    }
   ],
   "source": [
    "df = pd.DataFrame({'Date':['2023-01-01', '2023-01-02', '2023-01-03', '2023-01-04', '2023-01-05',\n",
    "                           '2023-02-10', '2023-02-24', '2023-03-08', '2023-03-09']})\n",
    "df"
   ]
  },
  {
   "cell_type": "code",
   "execution_count": 3,
   "id": "40506179-356e-442b-9c7a-1cacfe528042",
   "metadata": {},
   "outputs": [
    {
     "data": {
      "text/html": [
       "<div>\n",
       "<style scoped>\n",
       "    .dataframe tbody tr th:only-of-type {\n",
       "        vertical-align: middle;\n",
       "    }\n",
       "\n",
       "    .dataframe tbody tr th {\n",
       "        vertical-align: top;\n",
       "    }\n",
       "\n",
       "    .dataframe thead th {\n",
       "        text-align: right;\n",
       "    }\n",
       "</style>\n",
       "<table border=\"1\" class=\"dataframe\">\n",
       "  <thead>\n",
       "    <tr style=\"text-align: right;\">\n",
       "      <th></th>\n",
       "      <th>Date</th>\n",
       "      <th>Weekday</th>\n",
       "      <th>Year-Month-Date</th>\n",
       "    </tr>\n",
       "  </thead>\n",
       "  <tbody>\n",
       "    <tr>\n",
       "      <th>0</th>\n",
       "      <td>2023-01-01</td>\n",
       "      <td>Sunday</td>\n",
       "      <td>2023-January-01</td>\n",
       "    </tr>\n",
       "    <tr>\n",
       "      <th>1</th>\n",
       "      <td>2023-01-02</td>\n",
       "      <td>Monday</td>\n",
       "      <td>2023-January-02</td>\n",
       "    </tr>\n",
       "    <tr>\n",
       "      <th>2</th>\n",
       "      <td>2023-01-03</td>\n",
       "      <td>Tuesday</td>\n",
       "      <td>2023-January-03</td>\n",
       "    </tr>\n",
       "    <tr>\n",
       "      <th>3</th>\n",
       "      <td>2023-01-04</td>\n",
       "      <td>Wednesday</td>\n",
       "      <td>2023-January-04</td>\n",
       "    </tr>\n",
       "    <tr>\n",
       "      <th>4</th>\n",
       "      <td>2023-01-05</td>\n",
       "      <td>Thursday</td>\n",
       "      <td>2023-January-05</td>\n",
       "    </tr>\n",
       "    <tr>\n",
       "      <th>5</th>\n",
       "      <td>2023-02-10</td>\n",
       "      <td>Friday</td>\n",
       "      <td>2023-February-10</td>\n",
       "    </tr>\n",
       "    <tr>\n",
       "      <th>6</th>\n",
       "      <td>2023-02-24</td>\n",
       "      <td>Friday</td>\n",
       "      <td>2023-February-24</td>\n",
       "    </tr>\n",
       "    <tr>\n",
       "      <th>7</th>\n",
       "      <td>2023-03-08</td>\n",
       "      <td>Wednesday</td>\n",
       "      <td>2023-March-08</td>\n",
       "    </tr>\n",
       "    <tr>\n",
       "      <th>8</th>\n",
       "      <td>2023-03-09</td>\n",
       "      <td>Thursday</td>\n",
       "      <td>2023-March-09</td>\n",
       "    </tr>\n",
       "  </tbody>\n",
       "</table>\n",
       "</div>"
      ],
      "text/plain": [
       "        Date    Weekday   Year-Month-Date\n",
       "0 2023-01-01     Sunday   2023-January-01\n",
       "1 2023-01-02     Monday   2023-January-02\n",
       "2 2023-01-03    Tuesday   2023-January-03\n",
       "3 2023-01-04  Wednesday   2023-January-04\n",
       "4 2023-01-05   Thursday   2023-January-05\n",
       "5 2023-02-10     Friday  2023-February-10\n",
       "6 2023-02-24     Friday  2023-February-24\n",
       "7 2023-03-08  Wednesday     2023-March-08\n",
       "8 2023-03-09   Thursday     2023-March-09"
      ]
     },
     "execution_count": 3,
     "metadata": {},
     "output_type": "execute_result"
    }
   ],
   "source": [
    "def create_weekday_column(df):\n",
    "    df['Date'] = pd.to_datetime(df['Date'])\n",
    "    df['Weekday'] = df['Date'].dt.strftime('%A')\n",
    "    df['Year-Month-Date'] = df['Date'].dt.strftime('%Y-%B-%d')\n",
    "    return df\n",
    "create_weekday_column(df)"
   ]
  },
  {
   "cell_type": "markdown",
   "id": "7ea8ee5c-401d-472c-b4b1-3bafcc30ca58",
   "metadata": {},
   "source": [
    "## Note : For clear understanding of `strftime()` method, i have created an extra column `Year-Month-Date`."
   ]
  },
  {
   "cell_type": "markdown",
   "id": "7a1a35e4-7321-493a-aec1-896c2edb706a",
   "metadata": {},
   "source": [
    "#### In above function `create_weekday_column()` , `to_datetime()` is a method in Pandas that is used to convert a string or a number to a datetime object. It can also be used to convert a list or an array of strings or numbers to a DatetimeIndex.\n",
    "\n",
    "#### `dt accessor` is used to access the datetime properties of the 'Date' column, and `strftime()` method is used to format the date as a string in the specified format '%A' which gives the full weekday name.  The name strftime stands for \"string format time\", and it takes a string format code as an argument that specifies the desired format of the output string.\n"
   ]
  },
  {
   "cell_type": "code",
   "execution_count": null,
   "id": "122e3a5b-5768-4e6b-b25c-db91d0216299",
   "metadata": {},
   "outputs": [],
   "source": []
  },
  {
   "cell_type": "markdown",
   "id": "4732e994-0eba-4f6f-bfb5-b19c434a90e3",
   "metadata": {},
   "source": [
    "# Q12. Given a Pandas DataFrame df with a column 'Date' that contains timestamps, write a Python function to select all rows where the date is between '2023-01-01' and '2023-01-31'."
   ]
  },
  {
   "cell_type": "code",
   "execution_count": 10,
   "id": "d1691a47-f0b4-4fa9-a556-5aa8f2127df6",
   "metadata": {},
   "outputs": [
    {
     "data": {
      "text/html": [
       "<div>\n",
       "<style scoped>\n",
       "    .dataframe tbody tr th:only-of-type {\n",
       "        vertical-align: middle;\n",
       "    }\n",
       "\n",
       "    .dataframe tbody tr th {\n",
       "        vertical-align: top;\n",
       "    }\n",
       "\n",
       "    .dataframe thead th {\n",
       "        text-align: right;\n",
       "    }\n",
       "</style>\n",
       "<table border=\"1\" class=\"dataframe\">\n",
       "  <thead>\n",
       "    <tr style=\"text-align: right;\">\n",
       "      <th></th>\n",
       "      <th>Date</th>\n",
       "    </tr>\n",
       "  </thead>\n",
       "  <tbody>\n",
       "    <tr>\n",
       "      <th>0</th>\n",
       "      <td>2022-01-01</td>\n",
       "    </tr>\n",
       "    <tr>\n",
       "      <th>1</th>\n",
       "      <td>2022-01-02</td>\n",
       "    </tr>\n",
       "    <tr>\n",
       "      <th>2</th>\n",
       "      <td>2022-01-03</td>\n",
       "    </tr>\n",
       "    <tr>\n",
       "      <th>3</th>\n",
       "      <td>2022-01-04</td>\n",
       "    </tr>\n",
       "    <tr>\n",
       "      <th>4</th>\n",
       "      <td>2022-01-05</td>\n",
       "    </tr>\n",
       "    <tr>\n",
       "      <th>...</th>\n",
       "      <td>...</td>\n",
       "    </tr>\n",
       "    <tr>\n",
       "      <th>756</th>\n",
       "      <td>2024-01-27</td>\n",
       "    </tr>\n",
       "    <tr>\n",
       "      <th>757</th>\n",
       "      <td>2024-01-28</td>\n",
       "    </tr>\n",
       "    <tr>\n",
       "      <th>758</th>\n",
       "      <td>2024-01-29</td>\n",
       "    </tr>\n",
       "    <tr>\n",
       "      <th>759</th>\n",
       "      <td>2024-01-30</td>\n",
       "    </tr>\n",
       "    <tr>\n",
       "      <th>760</th>\n",
       "      <td>2024-01-31</td>\n",
       "    </tr>\n",
       "  </tbody>\n",
       "</table>\n",
       "<p>761 rows × 1 columns</p>\n",
       "</div>"
      ],
      "text/plain": [
       "          Date\n",
       "0   2022-01-01\n",
       "1   2022-01-02\n",
       "2   2022-01-03\n",
       "3   2022-01-04\n",
       "4   2022-01-05\n",
       "..         ...\n",
       "756 2024-01-27\n",
       "757 2024-01-28\n",
       "758 2024-01-29\n",
       "759 2024-01-30\n",
       "760 2024-01-31\n",
       "\n",
       "[761 rows x 1 columns]"
      ]
     },
     "execution_count": 10,
     "metadata": {},
     "output_type": "execute_result"
    }
   ],
   "source": [
    "df = pd.DataFrame({'Date':pd.date_range(start='2022-01-01',end='2024-01-31')})\n",
    "df"
   ]
  },
  {
   "cell_type": "code",
   "execution_count": 11,
   "id": "63e11f5a-c77f-4e82-a75c-a08886d8360b",
   "metadata": {},
   "outputs": [
    {
     "data": {
      "text/html": [
       "<div>\n",
       "<style scoped>\n",
       "    .dataframe tbody tr th:only-of-type {\n",
       "        vertical-align: middle;\n",
       "    }\n",
       "\n",
       "    .dataframe tbody tr th {\n",
       "        vertical-align: top;\n",
       "    }\n",
       "\n",
       "    .dataframe thead th {\n",
       "        text-align: right;\n",
       "    }\n",
       "</style>\n",
       "<table border=\"1\" class=\"dataframe\">\n",
       "  <thead>\n",
       "    <tr style=\"text-align: right;\">\n",
       "      <th></th>\n",
       "      <th>Date</th>\n",
       "    </tr>\n",
       "  </thead>\n",
       "  <tbody>\n",
       "    <tr>\n",
       "      <th>365</th>\n",
       "      <td>2023-01-01</td>\n",
       "    </tr>\n",
       "    <tr>\n",
       "      <th>366</th>\n",
       "      <td>2023-01-02</td>\n",
       "    </tr>\n",
       "    <tr>\n",
       "      <th>367</th>\n",
       "      <td>2023-01-03</td>\n",
       "    </tr>\n",
       "    <tr>\n",
       "      <th>368</th>\n",
       "      <td>2023-01-04</td>\n",
       "    </tr>\n",
       "    <tr>\n",
       "      <th>369</th>\n",
       "      <td>2023-01-05</td>\n",
       "    </tr>\n",
       "    <tr>\n",
       "      <th>370</th>\n",
       "      <td>2023-01-06</td>\n",
       "    </tr>\n",
       "    <tr>\n",
       "      <th>371</th>\n",
       "      <td>2023-01-07</td>\n",
       "    </tr>\n",
       "    <tr>\n",
       "      <th>372</th>\n",
       "      <td>2023-01-08</td>\n",
       "    </tr>\n",
       "    <tr>\n",
       "      <th>373</th>\n",
       "      <td>2023-01-09</td>\n",
       "    </tr>\n",
       "    <tr>\n",
       "      <th>374</th>\n",
       "      <td>2023-01-10</td>\n",
       "    </tr>\n",
       "    <tr>\n",
       "      <th>375</th>\n",
       "      <td>2023-01-11</td>\n",
       "    </tr>\n",
       "    <tr>\n",
       "      <th>376</th>\n",
       "      <td>2023-01-12</td>\n",
       "    </tr>\n",
       "    <tr>\n",
       "      <th>377</th>\n",
       "      <td>2023-01-13</td>\n",
       "    </tr>\n",
       "    <tr>\n",
       "      <th>378</th>\n",
       "      <td>2023-01-14</td>\n",
       "    </tr>\n",
       "    <tr>\n",
       "      <th>379</th>\n",
       "      <td>2023-01-15</td>\n",
       "    </tr>\n",
       "    <tr>\n",
       "      <th>380</th>\n",
       "      <td>2023-01-16</td>\n",
       "    </tr>\n",
       "    <tr>\n",
       "      <th>381</th>\n",
       "      <td>2023-01-17</td>\n",
       "    </tr>\n",
       "    <tr>\n",
       "      <th>382</th>\n",
       "      <td>2023-01-18</td>\n",
       "    </tr>\n",
       "    <tr>\n",
       "      <th>383</th>\n",
       "      <td>2023-01-19</td>\n",
       "    </tr>\n",
       "    <tr>\n",
       "      <th>384</th>\n",
       "      <td>2023-01-20</td>\n",
       "    </tr>\n",
       "    <tr>\n",
       "      <th>385</th>\n",
       "      <td>2023-01-21</td>\n",
       "    </tr>\n",
       "    <tr>\n",
       "      <th>386</th>\n",
       "      <td>2023-01-22</td>\n",
       "    </tr>\n",
       "    <tr>\n",
       "      <th>387</th>\n",
       "      <td>2023-01-23</td>\n",
       "    </tr>\n",
       "    <tr>\n",
       "      <th>388</th>\n",
       "      <td>2023-01-24</td>\n",
       "    </tr>\n",
       "    <tr>\n",
       "      <th>389</th>\n",
       "      <td>2023-01-25</td>\n",
       "    </tr>\n",
       "    <tr>\n",
       "      <th>390</th>\n",
       "      <td>2023-01-26</td>\n",
       "    </tr>\n",
       "    <tr>\n",
       "      <th>391</th>\n",
       "      <td>2023-01-27</td>\n",
       "    </tr>\n",
       "    <tr>\n",
       "      <th>392</th>\n",
       "      <td>2023-01-28</td>\n",
       "    </tr>\n",
       "    <tr>\n",
       "      <th>393</th>\n",
       "      <td>2023-01-29</td>\n",
       "    </tr>\n",
       "    <tr>\n",
       "      <th>394</th>\n",
       "      <td>2023-01-30</td>\n",
       "    </tr>\n",
       "    <tr>\n",
       "      <th>395</th>\n",
       "      <td>2023-01-31</td>\n",
       "    </tr>\n",
       "  </tbody>\n",
       "</table>\n",
       "</div>"
      ],
      "text/plain": [
       "          Date\n",
       "365 2023-01-01\n",
       "366 2023-01-02\n",
       "367 2023-01-03\n",
       "368 2023-01-04\n",
       "369 2023-01-05\n",
       "370 2023-01-06\n",
       "371 2023-01-07\n",
       "372 2023-01-08\n",
       "373 2023-01-09\n",
       "374 2023-01-10\n",
       "375 2023-01-11\n",
       "376 2023-01-12\n",
       "377 2023-01-13\n",
       "378 2023-01-14\n",
       "379 2023-01-15\n",
       "380 2023-01-16\n",
       "381 2023-01-17\n",
       "382 2023-01-18\n",
       "383 2023-01-19\n",
       "384 2023-01-20\n",
       "385 2023-01-21\n",
       "386 2023-01-22\n",
       "387 2023-01-23\n",
       "388 2023-01-24\n",
       "389 2023-01-25\n",
       "390 2023-01-26\n",
       "391 2023-01-27\n",
       "392 2023-01-28\n",
       "393 2023-01-29\n",
       "394 2023-01-30\n",
       "395 2023-01-31"
      ]
     },
     "execution_count": 11,
     "metadata": {},
     "output_type": "execute_result"
    }
   ],
   "source": [
    "def select_january_month(df):\n",
    "    start_date = pd.Timestamp('2023-01-01')\n",
    "    end_date = pd.Timestamp('2023-01-31')\n",
    "    return df.loc[(df['Date'] >= start_date) & (df['Date'] <= end_date)]\n",
    "\n",
    "select_january_month(df)"
   ]
  },
  {
   "cell_type": "markdown",
   "id": "87f901d5-afdf-49cf-9a2c-2b525747188b",
   "metadata": {},
   "source": [
    "#### In above function `select_january_month()` , `pd.Timestamp()` function is used to convert the start and end date strings into pandas timestamp objects. Then, the `loc` accessor is used to select all rows where the 'Date' column is between the start and end dates, inclusive."
   ]
  },
  {
   "cell_type": "code",
   "execution_count": null,
   "id": "e325c632-860d-4d66-a568-57ee45dfeefa",
   "metadata": {},
   "outputs": [],
   "source": []
  },
  {
   "cell_type": "markdown",
   "id": "3d17bead-852d-4b5a-8224-8c5501c473ab",
   "metadata": {},
   "source": [
    "# Q13. To use the basic functions of pandas, what is the first and foremost necessary library that needs to be imported?"
   ]
  },
  {
   "cell_type": "markdown",
   "id": "ad99b895-ea6d-4507-8523-1c5b93c1e7d9",
   "metadata": {},
   "source": [
    "#### The first and foremost necessary library that needs to be imported to use the basic functions of pandas is pandas itself. The pandas library provides various data structures for efficiently storing and manipulating data, such as Series (1-dimensional labeled array) and DataFrame (2-dimensional labeled data structure)."
   ]
  },
  {
   "cell_type": "code",
   "execution_count": null,
   "id": "0d3de658-a4d7-4dcb-80be-0ecc0d26e289",
   "metadata": {},
   "outputs": [],
   "source": [
    "import pandas as pd"
   ]
  },
  {
   "cell_type": "markdown",
   "id": "57f4232b-97d7-408f-b511-95ba8228da70",
   "metadata": {},
   "source": [
    "#### By convention, the pandas library is usually imported with the alias pd. This makes it easier to refer to pandas functions and objects throughout your code. Once you've imported pandas, you can start using its functions and data structures in your code."
   ]
  },
  {
   "cell_type": "code",
   "execution_count": null,
   "id": "33c5ccc1-c775-4dfd-8406-50233d307f52",
   "metadata": {},
   "outputs": [],
   "source": []
  },
  {
   "cell_type": "code",
   "execution_count": null,
   "id": "ebb168ad-3320-4986-b16f-ef5799b6be23",
   "metadata": {},
   "outputs": [],
   "source": []
  }
 ],
 "metadata": {
  "kernelspec": {
   "display_name": "Python 3 (ipykernel)",
   "language": "python",
   "name": "python3"
  },
  "language_info": {
   "codemirror_mode": {
    "name": "ipython",
    "version": 3
   },
   "file_extension": ".py",
   "mimetype": "text/x-python",
   "name": "python",
   "nbconvert_exporter": "python",
   "pygments_lexer": "ipython3",
   "version": "3.10.8"
  }
 },
 "nbformat": 4,
 "nbformat_minor": 5
}
